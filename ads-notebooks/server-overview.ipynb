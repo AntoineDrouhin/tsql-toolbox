{
    "metadata": {
        "kernelspec": {
            "name": "SQL",
            "display_name": "SQL",
            "language": "sql"
        },
        "language_info": {
            "name": "sql",
            "version": ""
        }
    },
    "nbformat_minor": 2,
    "nbformat": 4,
    "cells": [
        {
            "cell_type": "markdown",
            "source": [
                "# Server overview\n",
                ""
            ],
            "metadata": {}
        },
        {
            "cell_type": "code",
            "source": [
                "use database_name\n",
                ""
            ],
            "metadata": {},
            "outputs": [
                {
                    "output_type": "display_data",
                    "data": {
                        "text/html": "Commands completed successfully."
                    },
                    "metadata": {}
                },
                {
                    "output_type": "display_data",
                    "data": {
                        "text/html": "Total execution time: 00:00:00.030"
                    },
                    "metadata": {}
                }
            ],
            "execution_count": 6
        },
        {
            "cell_type": "markdown",
            "source": "## Indexes fragmentation",
            "metadata": {}
        },
        {
            "cell_type": "code",
            "source": [
                "SELECT dbschemas.[name] as 'Schema',\n",
                "  dbtables.[name] as 'Table',\n",
                "  dbindexes.[name] as 'Index',\n",
                "  indexstats.avg_fragmentation_in_percent,\n",
                "  indexstats.page_count\n",
                "FROM sys.dm_db_index_physical_stats (DB_ID(), NULL, NULL, NULL, NULL) AS indexstats\n",
                "  INNER JOIN sys.tables dbtables on dbtables.[object_id] = indexstats.[object_id]\n",
                "  INNER JOIN sys.schemas dbschemas on dbtables.[schema_id] = dbschemas.[schema_id]\n",
                "  INNER JOIN sys.indexes AS dbindexes ON dbindexes.[object_id] = indexstats.[object_id]\n",
                "    AND indexstats.index_id = dbindexes.index_id\n",
                "WHERE indexstats.database_id = DB_ID()\n",
                "AND indexstats.avg_fragmentation_in_percent > 10\n",
                "ORDER BY indexstats.avg_fragmentation_in_percent desc\n",
                ""
            ],
            "metadata": {},
            "outputs": [],
            "execution_count": 2
        },
        {
            "cell_type": "markdown",
            "source": "## Index usage",
            "metadata": {}
        },
        {
            "cell_type": "code",
            "source": [
                "SELECT OBJECT_NAME(IX.OBJECT_ID) Table_Name\n",
                "  , IX.name AS Index_Name\n",
                "  , IX.type_desc Index_Type\n",
                "  , SUM(PS.[used_page_count]) * 8 IndexSizeKB\n",
                "  , IXUS.user_seeks AS NumOfSeeks\n",
                "  , IXUS.user_scans AS NumOfScans\n",
                "  , IXUS.user_lookups AS NumOfLookups\n",
                "  , IXUS.user_updates AS NumOfUpdates\n",
                "  , IXUS.last_user_seek AS LastSeek\n",
                "  , IXUS.last_user_scan AS LastScan\n",
                "  , IXUS.last_user_lookup AS LastLookup\n",
                "  , IXUS.last_user_update AS LastUpdate\n",
                "FROM sys.indexes IX\n",
                "  INNER JOIN sys.dm_db_index_usage_stats IXUS ON IXUS.index_id = IX.index_id AND IXUS.OBJECT_ID = IX.OBJECT_ID\n",
                "  INNER JOIN sys.dm_db_partition_stats PS on PS.object_id=IX.object_id\n",
                "WHERE OBJECTPROPERTY(IX.OBJECT_ID,'IsUserTable') = 1\n",
                "GROUP BY OBJECT_NAME(IX.OBJECT_ID) ,IX.name ,IX.type_desc ,IXUS.user_seeks ,IXUS.user_scans ,IXUS.user_lookups,IXUS.user_updates ,IXUS.last_user_seek ,IXUS.last_user_scan ,IXUS.last_user_lookup ,IXUS.last_user_update\n",
                "ORDER BY IXUS.user_scans DESC"
            ],
            "metadata": {},
            "outputs": [
                {
                    "output_type": "display_data",
                    "data": {
                        "text/html": "(0 rows affected)"
                    },
                    "metadata": {}
                },
                {
                    "output_type": "execute_result",
                    "execution_count": 3,
                    "data": {
                        "application/vnd.dataresource+json": {
                            "schema": {
                                "fields": [
                                    {
                                        "name": "Table_Name"
                                    },
                                    {
                                        "name": "Index_Name"
                                    },
                                    {
                                        "name": "Index_Type"
                                    },
                                    {
                                        "name": "IndexSizeKB"
                                    },
                                    {
                                        "name": "NumOfSeeks"
                                    },
                                    {
                                        "name": "NumOfScans"
                                    },
                                    {
                                        "name": "NumOfLookups"
                                    },
                                    {
                                        "name": "NumOfUpdates"
                                    },
                                    {
                                        "name": "LastSeek"
                                    },
                                    {
                                        "name": "LastScan"
                                    },
                                    {
                                        "name": "LastLookup"
                                    },
                                    {
                                        "name": "LastUpdate"
                                    }
                                ]
                            },
                            "data": []
                        },
                        "text/html": "<table><tr><th>Table_Name</th><th>Index_Name</th><th>Index_Type</th><th>IndexSizeKB</th><th>NumOfSeeks</th><th>NumOfScans</th><th>NumOfLookups</th><th>NumOfUpdates</th><th>LastSeek</th><th>LastScan</th><th>LastLookup</th><th>LastUpdate</th></tr></table>"
                    },
                    "metadata": {}
                },
                {
                    "output_type": "display_data",
                    "data": {
                        "text/html": "Total execution time: 00:00:00.063"
                    },
                    "metadata": {}
                }
            ],
            "execution_count": 3
        },
        {
            "cell_type": "code",
            "source": [
                "SELECT OBJECT_NAME(IX.OBJECT_ID) Table_Name\n",
                "  , IX.name AS Index_Name\n",
                "  , IX.type_desc Index_Type\n",
                "  , SUM(PS.[used_page_count]) * 8 IndexSizeKB\n",
                "  , IXUS.user_seeks AS NumOfSeeks\n",
                "  , IXUS.user_scans AS NumOfScans\n",
                "  , IXUS.user_lookups AS NumOfLookups\n",
                "  , IXUS.user_updates AS NumOfUpdates\n",
                "  , IXUS.last_user_seek AS LastSeek\n",
                "  , IXUS.last_user_scan AS LastScan\n",
                "  , IXUS.last_user_lookup AS LastLookup\n",
                "  , IXUS.last_user_update AS LastUpdate\n",
                "FROM sys.indexes IX\n",
                "  INNER JOIN sys.dm_db_index_usage_stats IXUS ON IXUS.index_id = IX.index_id AND IXUS.OBJECT_ID = IX.OBJECT_ID\n",
                "  INNER JOIN sys.dm_db_partition_stats PS on PS.object_id=IX.object_id\n",
                "WHERE OBJECTPROPERTY(IX.OBJECT_ID,'IsUserTable') = 1\n",
                "GROUP BY OBJECT_NAME(IX.OBJECT_ID) ,IX.name ,IX.type_desc ,IXUS.user_seeks ,IXUS.user_scans ,IXUS.user_lookups,IXUS.user_updates ,IXUS.last_user_seek ,IXUS.last_user_scan ,IXUS.last_user_lookup ,IXUS.last_user_update\n",
                "ORDER BY (IXUS.user_scans + IXUS.user_seeks + IXUS.user_lookups ) DESC"
            ],
            "metadata": {},
            "outputs": [
                {
                    "output_type": "display_data",
                    "data": {
                        "text/html": "(0 rows affected)"
                    },
                    "metadata": {}
                },
                {
                    "output_type": "execute_result",
                    "execution_count": 4,
                    "data": {
                        "application/vnd.dataresource+json": {
                            "schema": {
                                "fields": [
                                    {
                                        "name": "Table_Name"
                                    },
                                    {
                                        "name": "Index_Name"
                                    },
                                    {
                                        "name": "Index_Type"
                                    },
                                    {
                                        "name": "IndexSizeKB"
                                    },
                                    {
                                        "name": "NumOfSeeks"
                                    },
                                    {
                                        "name": "NumOfScans"
                                    },
                                    {
                                        "name": "NumOfLookups"
                                    },
                                    {
                                        "name": "NumOfUpdates"
                                    },
                                    {
                                        "name": "LastSeek"
                                    },
                                    {
                                        "name": "LastScan"
                                    },
                                    {
                                        "name": "LastLookup"
                                    },
                                    {
                                        "name": "LastUpdate"
                                    }
                                ]
                            },
                            "data": []
                        },
                        "text/html": "<table><tr><th>Table_Name</th><th>Index_Name</th><th>Index_Type</th><th>IndexSizeKB</th><th>NumOfSeeks</th><th>NumOfScans</th><th>NumOfLookups</th><th>NumOfUpdates</th><th>LastSeek</th><th>LastScan</th><th>LastLookup</th><th>LastUpdate</th></tr></table>"
                    },
                    "metadata": {}
                },
                {
                    "output_type": "display_data",
                    "data": {
                        "text/html": "Total execution time: 00:00:00.057"
                    },
                    "metadata": {}
                }
            ],
            "execution_count": 4
        },
        {
            "cell_type": "markdown",
            "source": "# Disc Usage",
            "metadata": {}
        },
        {
            "cell_type": "code",
            "source": [
                "\n",
                "WITH\n",
                "  extra\n",
                "  AS\n",
                "  (\n",
                "    -- Get info for FullText indexes, XML Indexes, etc\n",
                "    SELECT sit.[object_id],\n",
                "      sit.[parent_id],\n",
                "      ps.[index_id],\n",
                "      SUM(ps.reserved_page_count) AS [reserved_page_count],\n",
                "      SUM(ps.used_page_count) AS [used_page_count]\n",
                "    FROM sys.dm_db_partition_stats ps\n",
                "      INNER JOIN sys.internal_tables sit\n",
                "      ON  sit.[object_id] = ps.[object_id]\n",
                "    WHERE   sit.internal_type IN\n",
                "               (202, 204, 207, 211, 212, 213, 214, 215, 216, 221, 222, 236)\n",
                "    GROUP BY    sit.[object_id],\n",
                "                sit.[parent_id],\n",
                "                ps.[index_id]\n",
                "  ),\n",
                "  agg\n",
                "  AS\n",
                "  (\n",
                "    -- Get info for Tables, Indexed Views, etc (including \"extra\")\n",
                "          SELECT ps.[object_id] AS [ObjectID],\n",
                "        ps.index_id AS [IndexID],\n",
                "        SUM(ps.in_row_data_page_count) AS [InRowDataPageCount],\n",
                "        SUM(ps.used_page_count) AS [UsedPageCount],\n",
                "        SUM(ps.reserved_page_count) AS [ReservedPageCount],\n",
                "        SUM(ps.row_count) AS [RowCount],\n",
                "        SUM(ps.lob_used_page_count + ps.row_overflow_used_page_count)\n",
                "                    AS [LobAndRowOverflowUsedPageCount]\n",
                "      FROM sys.dm_db_partition_stats ps\n",
                "      GROUP BY    ps.[object_id],\n",
                "                ps.[index_id]\n",
                "    UNION ALL\n",
                "      SELECT ex.[parent_id] AS [ObjectID],\n",
                "        ex.[object_id] AS [IndexID],\n",
                "        0 AS [InRowDataPageCount],\n",
                "        SUM(ex.used_page_count) AS [UsedPageCount],\n",
                "        SUM(ex.reserved_page_count) AS [ReservedPageCount],\n",
                "        0 AS [RowCount],\n",
                "        0 AS [LobAndRowOverflowUsedPageCount]\n",
                "      FROM extra ex\n",
                "      GROUP BY    ex.[parent_id],\n",
                "                ex.[object_id]\n",
                "  ),\n",
                "  spaceused\n",
                "  AS\n",
                "  (\n",
                "    SELECT agg.[ObjectID],\n",
                "      OBJECT_SCHEMA_NAME(agg.[ObjectID]) AS [SchemaName],\n",
                "      OBJECT_NAME(agg.[ObjectID]) AS [TableName],\n",
                "      SUM(CASE\n",
                "                WHEN (agg.IndexID < 2) THEN agg.[RowCount]\n",
                "                ELSE 0\n",
                "            END) AS [Rows],\n",
                "      SUM(agg.ReservedPageCount) * 8 AS [ReservedKB],\n",
                "      SUM(agg.LobAndRowOverflowUsedPageCount +\n",
                "            CASE\n",
                "                WHEN (agg.IndexID < 2) THEN (agg.InRowDataPageCount)\n",
                "                ELSE 0\n",
                "            END) * 8 AS [DataKB],\n",
                "      SUM(agg.UsedPageCount - agg.LobAndRowOverflowUsedPageCount -\n",
                "            CASE\n",
                "                WHEN (agg.IndexID < 2) THEN agg.InRowDataPageCount\n",
                "                ELSE 0\n",
                "            END) * 8 AS [IndexKB],\n",
                "      SUM(agg.ReservedPageCount - agg.UsedPageCount) * 8 AS [UnusedKB],\n",
                "      SUM(agg.UsedPageCount) * 8 AS [UsedKB]\n",
                "    FROM agg\n",
                "    GROUP BY    agg.[ObjectID],\n",
                "            OBJECT_SCHEMA_NAME(agg.[ObjectID]),\n",
                "            OBJECT_NAME(agg.[ObjectID])\n",
                "  )\n",
                "SELECT sp.SchemaName,\n",
                "  sp.TableName,\n",
                "  sp.[Rows],\n",
                "  sp.ReservedKB,\n",
                "  (sp.ReservedKB / 1024.0 / 1024.0) AS [ReservedGB],\n",
                "  sp.DataKB,\n",
                "  (sp.DataKB / 1024.0 / 1024.0) AS [DataGB],\n",
                "  sp.IndexKB,\n",
                "  (sp.IndexKB / 1024.0 / 1024.0) AS [IndexGB],\n",
                "  sp.UsedKB AS [UsedKB],\n",
                "  (sp.UsedKB / 1024.0 / 1024.0) AS [UsedGB],\n",
                "  sp.UnusedKB,\n",
                "  (sp.UnusedKB / 1024.0 / 1024.0) AS [UnusedGB],\n",
                "  so.[type_desc] AS [ObjectType],\n",
                "  so.[schema_id] AS [SchemaID],\n",
                "  sp.ObjectID\n",
                "FROM spaceused sp\n",
                "  INNER JOIN sys.all_objects so\n",
                "  ON so.[object_id] = sp.ObjectID\n",
                "WHERE so.is_ms_shipped = 0\n",
                "--so.[name] LIKE N''  -- optional name filter\n",
                "ORDER BY UsedGB DESC\n",
                ""
            ],
            "metadata": {},
            "outputs": [
                {
                    "output_type": "display_data",
                    "data": {
                        "text/html": "(0 rows affected)"
                    },
                    "metadata": {}
                },
                {
                    "output_type": "execute_result",
                    "execution_count": 5,
                    "data": {
                        "application/vnd.dataresource+json": {
                            "schema": {
                                "fields": [
                                    {
                                        "name": "SchemaName"
                                    },
                                    {
                                        "name": "TableName"
                                    },
                                    {
                                        "name": "Rows"
                                    },
                                    {
                                        "name": "ReservedKB"
                                    },
                                    {
                                        "name": "ReservedGB"
                                    },
                                    {
                                        "name": "DataKB"
                                    },
                                    {
                                        "name": "DataGB"
                                    },
                                    {
                                        "name": "IndexKB"
                                    },
                                    {
                                        "name": "IndexGB"
                                    },
                                    {
                                        "name": "UsedKB"
                                    },
                                    {
                                        "name": "UsedGB"
                                    },
                                    {
                                        "name": "UnusedKB"
                                    },
                                    {
                                        "name": "UnusedGB"
                                    },
                                    {
                                        "name": "ObjectType"
                                    },
                                    {
                                        "name": "SchemaID"
                                    },
                                    {
                                        "name": "ObjectID"
                                    }
                                ]
                            },
                            "data": []
                        },
                        "text/html": "<table><tr><th>SchemaName</th><th>TableName</th><th>Rows</th><th>ReservedKB</th><th>ReservedGB</th><th>DataKB</th><th>DataGB</th><th>IndexKB</th><th>IndexGB</th><th>UsedKB</th><th>UsedGB</th><th>UnusedKB</th><th>UnusedGB</th><th>ObjectType</th><th>SchemaID</th><th>ObjectID</th></tr></table>"
                    },
                    "metadata": {}
                },
                {
                    "output_type": "display_data",
                    "data": {
                        "text/html": "Total execution time: 00:00:00.097"
                    },
                    "metadata": {}
                }
            ],
            "execution_count": 5
        }
    ]
}